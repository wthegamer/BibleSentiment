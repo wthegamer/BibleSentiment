{
 "cells": [
  {
   "cell_type": "code",
   "execution_count": 1,
   "id": "27c04fab",
   "metadata": {},
   "outputs": [
    {
     "data": {
      "text/html": [
       "<div>\n",
       "<style scoped>\n",
       "    .dataframe tbody tr th:only-of-type {\n",
       "        vertical-align: middle;\n",
       "    }\n",
       "\n",
       "    .dataframe tbody tr th {\n",
       "        vertical-align: top;\n",
       "    }\n",
       "\n",
       "    .dataframe thead th {\n",
       "        text-align: right;\n",
       "    }\n",
       "</style>\n",
       "<table border=\"1\" class=\"dataframe\">\n",
       "  <thead>\n",
       "    <tr style=\"text-align: right;\">\n",
       "      <th></th>\n",
       "      <th>abased</th>\n",
       "      <th>abasedand</th>\n",
       "      <th>abba</th>\n",
       "      <th>abel</th>\n",
       "      <th>abelto</th>\n",
       "      <th>abia</th>\n",
       "      <th>abide</th>\n",
       "      <th>abidein</th>\n",
       "      <th>abideth</th>\n",
       "      <th>abidethere</th>\n",
       "      <th>...</th>\n",
       "      <th>youyou</th>\n",
       "      <th>zabulon</th>\n",
       "      <th>zacchaeus</th>\n",
       "      <th>zacchaeuswanted</th>\n",
       "      <th>zacharias</th>\n",
       "      <th>zeal</th>\n",
       "      <th>zebedee</th>\n",
       "      <th>zebedees</th>\n",
       "      <th>zelotes</th>\n",
       "      <th>zorobabel</th>\n",
       "    </tr>\n",
       "  </thead>\n",
       "  <tbody>\n",
       "    <tr>\n",
       "      <th>John</th>\n",
       "      <td>0</td>\n",
       "      <td>0</td>\n",
       "      <td>0</td>\n",
       "      <td>0</td>\n",
       "      <td>0</td>\n",
       "      <td>0</td>\n",
       "      <td>9</td>\n",
       "      <td>1</td>\n",
       "      <td>4</td>\n",
       "      <td>0</td>\n",
       "      <td>...</td>\n",
       "      <td>0</td>\n",
       "      <td>0</td>\n",
       "      <td>0</td>\n",
       "      <td>0</td>\n",
       "      <td>0</td>\n",
       "      <td>1</td>\n",
       "      <td>0</td>\n",
       "      <td>0</td>\n",
       "      <td>0</td>\n",
       "      <td>0</td>\n",
       "    </tr>\n",
       "    <tr>\n",
       "      <th>Luke</th>\n",
       "      <td>2</td>\n",
       "      <td>0</td>\n",
       "      <td>0</td>\n",
       "      <td>1</td>\n",
       "      <td>0</td>\n",
       "      <td>1</td>\n",
       "      <td>2</td>\n",
       "      <td>0</td>\n",
       "      <td>0</td>\n",
       "      <td>0</td>\n",
       "      <td>...</td>\n",
       "      <td>1</td>\n",
       "      <td>0</td>\n",
       "      <td>3</td>\n",
       "      <td>1</td>\n",
       "      <td>8</td>\n",
       "      <td>0</td>\n",
       "      <td>0</td>\n",
       "      <td>0</td>\n",
       "      <td>1</td>\n",
       "      <td>1</td>\n",
       "    </tr>\n",
       "    <tr>\n",
       "      <th>Mark</th>\n",
       "      <td>0</td>\n",
       "      <td>0</td>\n",
       "      <td>1</td>\n",
       "      <td>0</td>\n",
       "      <td>0</td>\n",
       "      <td>0</td>\n",
       "      <td>0</td>\n",
       "      <td>0</td>\n",
       "      <td>0</td>\n",
       "      <td>1</td>\n",
       "      <td>...</td>\n",
       "      <td>0</td>\n",
       "      <td>0</td>\n",
       "      <td>0</td>\n",
       "      <td>0</td>\n",
       "      <td>0</td>\n",
       "      <td>0</td>\n",
       "      <td>3</td>\n",
       "      <td>0</td>\n",
       "      <td>0</td>\n",
       "      <td>0</td>\n",
       "    </tr>\n",
       "    <tr>\n",
       "      <th>Matthew</th>\n",
       "      <td>0</td>\n",
       "      <td>1</td>\n",
       "      <td>0</td>\n",
       "      <td>0</td>\n",
       "      <td>1</td>\n",
       "      <td>0</td>\n",
       "      <td>1</td>\n",
       "      <td>0</td>\n",
       "      <td>0</td>\n",
       "      <td>0</td>\n",
       "      <td>...</td>\n",
       "      <td>0</td>\n",
       "      <td>1</td>\n",
       "      <td>0</td>\n",
       "      <td>0</td>\n",
       "      <td>1</td>\n",
       "      <td>0</td>\n",
       "      <td>3</td>\n",
       "      <td>1</td>\n",
       "      <td>0</td>\n",
       "      <td>0</td>\n",
       "    </tr>\n",
       "  </tbody>\n",
       "</table>\n",
       "<p>4 rows × 7071 columns</p>\n",
       "</div>"
      ],
      "text/plain": [
       "         abased  abasedand  abba  abel  abelto  abia  abide  abidein  abideth  \\\n",
       "John          0          0     0     0       0     0      9        1        4   \n",
       "Luke          2          0     0     1       0     1      2        0        0   \n",
       "Mark          0          0     1     0       0     0      0        0        0   \n",
       "Matthew       0          1     0     0       1     0      1        0        0   \n",
       "\n",
       "         abidethere  ...  youyou  zabulon  zacchaeus  zacchaeuswanted  \\\n",
       "John              0  ...       0        0          0                0   \n",
       "Luke              0  ...       1        0          3                1   \n",
       "Mark              1  ...       0        0          0                0   \n",
       "Matthew           0  ...       0        1          0                0   \n",
       "\n",
       "         zacharias  zeal  zebedee  zebedees  zelotes  zorobabel  \n",
       "John             0     1        0         0        0          0  \n",
       "Luke             8     0        0         0        1          1  \n",
       "Mark             0     0        3         0        0          0  \n",
       "Matthew          1     0        3         1        0          0  \n",
       "\n",
       "[4 rows x 7071 columns]"
      ]
     },
     "execution_count": 1,
     "metadata": {},
     "output_type": "execute_result"
    }
   ],
   "source": [
    "# read in the matrix\n",
    "import pandas as pd\n",
    "import pickle\n",
    "\n",
    "data = pd.read_pickle('dtm_stop.pkl')\n",
    "data"
   ]
  },
  {
   "cell_type": "code",
   "execution_count": 2,
   "id": "b55d3f4f",
   "metadata": {},
   "outputs": [],
   "source": [
    "# Import the necessary modules for LDA with gensim\n",
    "# Terminal / Anaconda Navigator: conda install -c conda-forge gensim\n",
    "from gensim import matutils, models\n",
    "import scipy.sparse"
   ]
  },
  {
   "cell_type": "code",
   "execution_count": 3,
   "id": "c8acfd60",
   "metadata": {},
   "outputs": [
    {
     "data": {
      "text/html": [
       "<div>\n",
       "<style scoped>\n",
       "    .dataframe tbody tr th:only-of-type {\n",
       "        vertical-align: middle;\n",
       "    }\n",
       "\n",
       "    .dataframe tbody tr th {\n",
       "        vertical-align: top;\n",
       "    }\n",
       "\n",
       "    .dataframe thead th {\n",
       "        text-align: right;\n",
       "    }\n",
       "</style>\n",
       "<table border=\"1\" class=\"dataframe\">\n",
       "  <thead>\n",
       "    <tr style=\"text-align: right;\">\n",
       "      <th></th>\n",
       "      <th>John</th>\n",
       "      <th>Luke</th>\n",
       "      <th>Mark</th>\n",
       "      <th>Matthew</th>\n",
       "    </tr>\n",
       "  </thead>\n",
       "  <tbody>\n",
       "    <tr>\n",
       "      <th>abased</th>\n",
       "      <td>0</td>\n",
       "      <td>2</td>\n",
       "      <td>0</td>\n",
       "      <td>0</td>\n",
       "    </tr>\n",
       "    <tr>\n",
       "      <th>abasedand</th>\n",
       "      <td>0</td>\n",
       "      <td>0</td>\n",
       "      <td>0</td>\n",
       "      <td>1</td>\n",
       "    </tr>\n",
       "    <tr>\n",
       "      <th>abba</th>\n",
       "      <td>0</td>\n",
       "      <td>0</td>\n",
       "      <td>1</td>\n",
       "      <td>0</td>\n",
       "    </tr>\n",
       "    <tr>\n",
       "      <th>abel</th>\n",
       "      <td>0</td>\n",
       "      <td>1</td>\n",
       "      <td>0</td>\n",
       "      <td>0</td>\n",
       "    </tr>\n",
       "    <tr>\n",
       "      <th>abelto</th>\n",
       "      <td>0</td>\n",
       "      <td>0</td>\n",
       "      <td>0</td>\n",
       "      <td>1</td>\n",
       "    </tr>\n",
       "  </tbody>\n",
       "</table>\n",
       "</div>"
      ],
      "text/plain": [
       "           John  Luke  Mark  Matthew\n",
       "abased        0     2     0        0\n",
       "abasedand     0     0     0        1\n",
       "abba          0     0     1        0\n",
       "abel          0     1     0        0\n",
       "abelto        0     0     0        1"
      ]
     },
     "execution_count": 3,
     "metadata": {},
     "output_type": "execute_result"
    }
   ],
   "source": [
    "# One of the required inputs is a term-document matrix\n",
    "tdm = data.transpose()\n",
    "tdm.head()"
   ]
  },
  {
   "cell_type": "code",
   "execution_count": 4,
   "id": "57a9cceb",
   "metadata": {},
   "outputs": [],
   "source": [
    "# We're going to put the term-document matrix into a new gensim format, from df --> sparse matrix --> gensim corpus\n",
    "sparse_counts = scipy.sparse.csr_matrix(tdm)\n",
    "corpus = matutils.Sparse2Corpus(sparse_counts)"
   ]
  },
  {
   "cell_type": "code",
   "execution_count": 5,
   "id": "00842594",
   "metadata": {},
   "outputs": [],
   "source": [
    "# Gensim also requires dictionary of the all terms and their respective location in the term-document matrix\n",
    "cv = pickle.load(open(\"cv_stop.pkl\", \"rb\"))\n",
    "id2word = dict((v, k) for k, v in cv.vocabulary_.items())"
   ]
  },
  {
   "cell_type": "code",
   "execution_count": 6,
   "id": "e5f3498e",
   "metadata": {},
   "outputs": [
    {
     "data": {
      "text/plain": [
       "[(0,\n",
       "  '0.028*\"unto\" + 0.010*\"saith\" + 0.008*\"world\" + 0.008*\"know\" + 0.007*\"answered\" + 0.006*\"hath\" + 0.006*\"jews\" + 0.005*\"sent\" + 0.005*\"believe\" + 0.004*\"verily\"'),\n",
       " (1,\n",
       "  '0.005*\"people\" + 0.004*\"day\" + 0.004*\"house\" + 0.004*\"took\" + 0.004*\"away\" + 0.004*\"heaven\" + 0.004*\"cast\" + 0.004*\"let\" + 0.004*\"did\" + 0.004*\"men\"')]"
      ]
     },
     "execution_count": 6,
     "metadata": {},
     "output_type": "execute_result"
    }
   ],
   "source": [
    "# Now that we have the corpus (term-document matrix) and id2word (dictionary of location: term),\n",
    "# we need to specify two other parameters as well - the number of topics and the number of passes\n",
    "lda = models.LdaModel(corpus=corpus, id2word=id2word, num_topics=2, passes=10)\n",
    "lda.print_topics()"
   ]
  },
  {
   "cell_type": "code",
   "execution_count": 8,
   "id": "c7080772",
   "metadata": {},
   "outputs": [
    {
     "data": {
      "text/plain": [
       "[(0,\n",
       "  '0.005*\"house\" + 0.005*\"people\" + 0.005*\"day\" + 0.004*\"saying\" + 0.003*\"great\" + 0.003*\"let\" + 0.003*\"tell\" + 0.003*\"good\" + 0.003*\"called\" + 0.003*\"john\"'),\n",
       " (1,\n",
       "  '0.000*\"unto\" + 0.000*\"saying\" + 0.000*\"day\" + 0.000*\"did\" + 0.000*\"let\" + 0.000*\"sent\" + 0.000*\"know\" + 0.000*\"men\" + 0.000*\"people\" + 0.000*\"behold\"'),\n",
       " (2,\n",
       "  '0.016*\"unto\" + 0.005*\"know\" + 0.005*\"answered\" + 0.005*\"saith\" + 0.005*\"world\" + 0.004*\"took\" + 0.004*\"heaven\" + 0.004*\"away\" + 0.004*\"sent\" + 0.004*\"did\"')]"
      ]
     },
     "execution_count": 8,
     "metadata": {},
     "output_type": "execute_result"
    }
   ],
   "source": [
    "# LDA for num_topics = 3\n",
    "lda = models.LdaModel(corpus=corpus, id2word=id2word, num_topics=3, passes=10)\n",
    "lda.print_topics()"
   ]
  },
  {
   "cell_type": "code",
   "execution_count": 9,
   "id": "b8885cd7",
   "metadata": {},
   "outputs": [
    {
     "data": {
      "text/plain": [
       "[(0,\n",
       "  '0.005*\"took\" + 0.005*\"heaven\" + 0.005*\"away\" + 0.004*\"cast\" + 0.004*\"unto\" + 0.004*\"did\" + 0.004*\"people\" + 0.004*\"men\" + 0.004*\"heard\" + 0.004*\"let\"'),\n",
       " (1,\n",
       "  '0.035*\"unto\" + 0.012*\"saith\" + 0.010*\"world\" + 0.009*\"know\" + 0.008*\"answered\" + 0.008*\"hath\" + 0.007*\"jews\" + 0.007*\"sent\" + 0.006*\"believe\" + 0.005*\"verily\"'),\n",
       " (2,\n",
       "  '0.000*\"unto\" + 0.000*\"away\" + 0.000*\"day\" + 0.000*\"people\" + 0.000*\"answered\" + 0.000*\"let\" + 0.000*\"saying\" + 0.000*\"sent\" + 0.000*\"cast\" + 0.000*\"heaven\"'),\n",
       " (3,\n",
       "  '0.005*\"house\" + 0.005*\"people\" + 0.005*\"day\" + 0.004*\"saying\" + 0.004*\"great\" + 0.003*\"let\" + 0.003*\"tell\" + 0.003*\"good\" + 0.003*\"called\" + 0.003*\"john\"')]"
      ]
     },
     "execution_count": 9,
     "metadata": {},
     "output_type": "execute_result"
    }
   ],
   "source": [
    "# LDA for num_topics = 4\n",
    "lda = models.LdaModel(corpus=corpus, id2word=id2word, num_topics=4, passes=10)\n",
    "lda.print_topics()"
   ]
  },
  {
   "cell_type": "code",
   "execution_count": 10,
   "id": "65761ce2",
   "metadata": {},
   "outputs": [],
   "source": [
    "# These topics could be better. Is unto a topic? no\n",
    "# Let's create a function to pull out nouns from a string of text\n",
    "from nltk import word_tokenize, pos_tag\n",
    "\n",
    "def nouns(text):\n",
    "    '''Given a string of text, tokenize the text and pull out only the nouns.'''\n",
    "    is_noun = lambda pos: pos[:2] == 'NN'\n",
    "    tokenized = word_tokenize(text)\n",
    "    all_nouns = [word for (word, pos) in pos_tag(tokenized) if is_noun(pos)] \n",
    "    return ' '.join(all_nouns)"
   ]
  },
  {
   "cell_type": "code",
   "execution_count": 11,
   "id": "05abd086",
   "metadata": {},
   "outputs": [
    {
     "data": {
      "text/html": [
       "<div>\n",
       "<style scoped>\n",
       "    .dataframe tbody tr th:only-of-type {\n",
       "        vertical-align: middle;\n",
       "    }\n",
       "\n",
       "    .dataframe tbody tr th {\n",
       "        vertical-align: top;\n",
       "    }\n",
       "\n",
       "    .dataframe thead th {\n",
       "        text-align: right;\n",
       "    }\n",
       "</style>\n",
       "<table border=\"1\" class=\"dataframe\">\n",
       "  <thead>\n",
       "    <tr style=\"text-align: right;\">\n",
       "      <th></th>\n",
       "      <th>transcripts</th>\n",
       "    </tr>\n",
       "  </thead>\n",
       "  <tbody>\n",
       "    <tr>\n",
       "      <th>John</th>\n",
       "      <td>title the gospel of john for readers editor li...</td>\n",
       "    </tr>\n",
       "    <tr>\n",
       "      <th>Luke</th>\n",
       "      <td>title the gospel of luke for readers editor li...</td>\n",
       "    </tr>\n",
       "    <tr>\n",
       "      <th>Mark</th>\n",
       "      <td>title the gospel of mark for readers editor li...</td>\n",
       "    </tr>\n",
       "    <tr>\n",
       "      <th>Matthew</th>\n",
       "      <td>title the gospel of matthew for readers editor...</td>\n",
       "    </tr>\n",
       "  </tbody>\n",
       "</table>\n",
       "</div>"
      ],
      "text/plain": [
       "                                               transcripts\n",
       "John     title the gospel of john for readers editor li...\n",
       "Luke     title the gospel of luke for readers editor li...\n",
       "Mark     title the gospel of mark for readers editor li...\n",
       "Matthew  title the gospel of matthew for readers editor..."
      ]
     },
     "execution_count": 11,
     "metadata": {},
     "output_type": "execute_result"
    }
   ],
   "source": [
    "# Read in the cleaned data, before the CountVectorizer step\n",
    "data_clean = pd.read_pickle('data_clean.pkl')\n",
    "data_clean"
   ]
  },
  {
   "cell_type": "code",
   "execution_count": 13,
   "id": "fd54a1a2",
   "metadata": {},
   "outputs": [
    {
     "data": {
      "text/html": [
       "<div>\n",
       "<style scoped>\n",
       "    .dataframe tbody tr th:only-of-type {\n",
       "        vertical-align: middle;\n",
       "    }\n",
       "\n",
       "    .dataframe tbody tr th {\n",
       "        vertical-align: top;\n",
       "    }\n",
       "\n",
       "    .dataframe thead th {\n",
       "        text-align: right;\n",
       "    }\n",
       "</style>\n",
       "<table border=\"1\" class=\"dataframe\">\n",
       "  <thead>\n",
       "    <tr style=\"text-align: right;\">\n",
       "      <th></th>\n",
       "      <th>transcripts</th>\n",
       "    </tr>\n",
       "  </thead>\n",
       "  <tbody>\n",
       "    <tr>\n",
       "      <th>John</th>\n",
       "      <td>gospel john readers editor lightheart release ...</td>\n",
       "    </tr>\n",
       "    <tr>\n",
       "      <th>Luke</th>\n",
       "      <td>gospel luke readers editor lightheart release ...</td>\n",
       "    </tr>\n",
       "    <tr>\n",
       "      <th>Mark</th>\n",
       "      <td>gospel mark readers editor lightheart release ...</td>\n",
       "    </tr>\n",
       "    <tr>\n",
       "      <th>Matthew</th>\n",
       "      <td>gospel matthew readers editor lightheart relea...</td>\n",
       "    </tr>\n",
       "  </tbody>\n",
       "</table>\n",
       "</div>"
      ],
      "text/plain": [
       "                                               transcripts\n",
       "John     gospel john readers editor lightheart release ...\n",
       "Luke     gospel luke readers editor lightheart release ...\n",
       "Mark     gospel mark readers editor lightheart release ...\n",
       "Matthew  gospel matthew readers editor lightheart relea..."
      ]
     },
     "execution_count": 13,
     "metadata": {},
     "output_type": "execute_result"
    }
   ],
   "source": [
    "# Apply the nouns function to the transcripts to filter only on nouns\n",
    "data_nouns = pd.DataFrame(data_clean.transcripts.apply(nouns))\n",
    "data_nouns"
   ]
  },
  {
   "cell_type": "code",
   "execution_count": 51,
   "id": "42fdfc06",
   "metadata": {},
   "outputs": [
    {
     "data": {
      "text/html": [
       "<div>\n",
       "<style scoped>\n",
       "    .dataframe tbody tr th:only-of-type {\n",
       "        vertical-align: middle;\n",
       "    }\n",
       "\n",
       "    .dataframe tbody tr th {\n",
       "        vertical-align: top;\n",
       "    }\n",
       "\n",
       "    .dataframe thead th {\n",
       "        text-align: right;\n",
       "    }\n",
       "</style>\n",
       "<table border=\"1\" class=\"dataframe\">\n",
       "  <thead>\n",
       "    <tr style=\"text-align: right;\">\n",
       "      <th></th>\n",
       "      <th>abel</th>\n",
       "      <th>abide</th>\n",
       "      <th>abideth</th>\n",
       "      <th>abilene</th>\n",
       "      <th>ability</th>\n",
       "      <th>aboat</th>\n",
       "      <th>abode</th>\n",
       "      <th>abomination</th>\n",
       "      <th>aboutgalilee</th>\n",
       "      <th>aboutthee</th>\n",
       "      <th>...</th>\n",
       "      <th>youth</th>\n",
       "      <th>youyou</th>\n",
       "      <th>zabulon</th>\n",
       "      <th>zacchaeus</th>\n",
       "      <th>zacharias</th>\n",
       "      <th>zeal</th>\n",
       "      <th>zebedee</th>\n",
       "      <th>zebedees</th>\n",
       "      <th>zelotes</th>\n",
       "      <th>zorobabel</th>\n",
       "    </tr>\n",
       "  </thead>\n",
       "  <tbody>\n",
       "    <tr>\n",
       "      <th>John</th>\n",
       "      <td>0</td>\n",
       "      <td>3</td>\n",
       "      <td>2</td>\n",
       "      <td>0</td>\n",
       "      <td>0</td>\n",
       "      <td>0</td>\n",
       "      <td>2</td>\n",
       "      <td>0</td>\n",
       "      <td>0</td>\n",
       "      <td>0</td>\n",
       "      <td>...</td>\n",
       "      <td>0</td>\n",
       "      <td>0</td>\n",
       "      <td>0</td>\n",
       "      <td>0</td>\n",
       "      <td>0</td>\n",
       "      <td>1</td>\n",
       "      <td>0</td>\n",
       "      <td>0</td>\n",
       "      <td>0</td>\n",
       "      <td>0</td>\n",
       "    </tr>\n",
       "    <tr>\n",
       "      <th>Luke</th>\n",
       "      <td>1</td>\n",
       "      <td>1</td>\n",
       "      <td>0</td>\n",
       "      <td>1</td>\n",
       "      <td>0</td>\n",
       "      <td>0</td>\n",
       "      <td>1</td>\n",
       "      <td>0</td>\n",
       "      <td>0</td>\n",
       "      <td>1</td>\n",
       "      <td>...</td>\n",
       "      <td>1</td>\n",
       "      <td>1</td>\n",
       "      <td>0</td>\n",
       "      <td>2</td>\n",
       "      <td>8</td>\n",
       "      <td>0</td>\n",
       "      <td>0</td>\n",
       "      <td>0</td>\n",
       "      <td>1</td>\n",
       "      <td>1</td>\n",
       "    </tr>\n",
       "    <tr>\n",
       "      <th>Mark</th>\n",
       "      <td>0</td>\n",
       "      <td>0</td>\n",
       "      <td>0</td>\n",
       "      <td>0</td>\n",
       "      <td>0</td>\n",
       "      <td>1</td>\n",
       "      <td>0</td>\n",
       "      <td>1</td>\n",
       "      <td>0</td>\n",
       "      <td>0</td>\n",
       "      <td>...</td>\n",
       "      <td>0</td>\n",
       "      <td>0</td>\n",
       "      <td>0</td>\n",
       "      <td>0</td>\n",
       "      <td>0</td>\n",
       "      <td>0</td>\n",
       "      <td>3</td>\n",
       "      <td>0</td>\n",
       "      <td>0</td>\n",
       "      <td>0</td>\n",
       "    </tr>\n",
       "    <tr>\n",
       "      <th>Matthew</th>\n",
       "      <td>0</td>\n",
       "      <td>0</td>\n",
       "      <td>0</td>\n",
       "      <td>0</td>\n",
       "      <td>1</td>\n",
       "      <td>0</td>\n",
       "      <td>0</td>\n",
       "      <td>0</td>\n",
       "      <td>1</td>\n",
       "      <td>0</td>\n",
       "      <td>...</td>\n",
       "      <td>1</td>\n",
       "      <td>0</td>\n",
       "      <td>1</td>\n",
       "      <td>0</td>\n",
       "      <td>1</td>\n",
       "      <td>0</td>\n",
       "      <td>3</td>\n",
       "      <td>1</td>\n",
       "      <td>0</td>\n",
       "      <td>0</td>\n",
       "    </tr>\n",
       "  </tbody>\n",
       "</table>\n",
       "<p>4 rows × 3622 columns</p>\n",
       "</div>"
      ],
      "text/plain": [
       "         abel  abide  abideth  abilene  ability  aboat  abode  abomination  \\\n",
       "John        0      3        2        0        0      0      2            0   \n",
       "Luke        1      1        0        1        0      0      1            0   \n",
       "Mark        0      0        0        0        0      1      0            1   \n",
       "Matthew     0      0        0        0        1      0      0            0   \n",
       "\n",
       "         aboutgalilee  aboutthee  ...  youth  youyou  zabulon  zacchaeus  \\\n",
       "John                0          0  ...      0       0        0          0   \n",
       "Luke                0          1  ...      1       1        0          2   \n",
       "Mark                0          0  ...      0       0        0          0   \n",
       "Matthew             1          0  ...      1       0        1          0   \n",
       "\n",
       "         zacharias  zeal  zebedee  zebedees  zelotes  zorobabel  \n",
       "John             0     1        0         0        0          0  \n",
       "Luke             8     0        0         0        1          1  \n",
       "Mark             0     0        3         0        0          0  \n",
       "Matthew          1     0        3         1        0          0  \n",
       "\n",
       "[4 rows x 3622 columns]"
      ]
     },
     "execution_count": 51,
     "metadata": {},
     "output_type": "execute_result"
    }
   ],
   "source": [
    "# Create a new document-term matrix using only nouns\n",
    "from sklearn.feature_extraction import text\n",
    "from sklearn.feature_extraction.text import CountVectorizer\n",
    "\n",
    "# Re-add the additional stop words since we are recreating the document-term matrix\n",
    "add_stop_words = ['like', 'im', 'know', 'just', 'dont', 'thats', 'right', 'people',\n",
    "                  'youre', 'got', 'gonna', 'time', 'think', 'yeah', 'said', 'unto', 'saith', 'hath', 'thou', 'ye', 'thee', 'hast', 'shalt',\n",
    "                 'sayest', 'cometh', 'woe']\n",
    "stop_words = text.ENGLISH_STOP_WORDS.union(add_stop_words)\n",
    "\n",
    "# Recreate a document-term matrix with only nouns\n",
    "cvn = CountVectorizer(stop_words=list(stop_words))\n",
    "data_cvn = cvn.fit_transform(data_nouns.transcripts)\n",
    "data_dtmn = pd.DataFrame(data_cvn.toarray(), columns=cvn.get_feature_names_out())\n",
    "data_dtmn.index = data_nouns.index\n",
    "data_dtmn"
   ]
  },
  {
   "cell_type": "code",
   "execution_count": 52,
   "id": "d38eed99",
   "metadata": {},
   "outputs": [],
   "source": [
    "# Create the gensim corpus\n",
    "corpusn = matutils.Sparse2Corpus(scipy.sparse.csr_matrix(data_dtmn.transpose()))\n",
    "\n",
    "# Create the vocabulary dictionary\n",
    "id2wordn = dict((v, k) for k, v in cvn.vocabulary_.items())"
   ]
  },
  {
   "cell_type": "code",
   "execution_count": 53,
   "id": "72c32659",
   "metadata": {},
   "outputs": [
    {
     "data": {
      "text/plain": [
       "[(0,\n",
       "  '0.044*\"jesus\" + 0.026*\"man\" + 0.019*\"son\" + 0.013*\"god\" + 0.012*\"things\" + 0.012*\"lord\" + 0.010*\"disciples\" + 0.008*\"kingdom\" + 0.008*\"day\" + 0.008*\"house\"'),\n",
       " (1,\n",
       "  '0.042*\"jesus\" + 0.021*\"man\" + 0.020*\"father\" + 0.015*\"world\" + 0.013*\"son\" + 0.012*\"god\" + 0.012*\"things\" + 0.011*\"jews\" + 0.010*\"disciples\" + 0.008*\"life\"')]"
      ]
     },
     "execution_count": 53,
     "metadata": {},
     "output_type": "execute_result"
    }
   ],
   "source": [
    "# Let's start with 2 topics\n",
    "ldan = models.LdaModel(corpus=corpusn, num_topics=2, id2word=id2wordn, passes=10)\n",
    "ldan.print_topics()"
   ]
  },
  {
   "cell_type": "code",
   "execution_count": 54,
   "id": "671d1aae",
   "metadata": {},
   "outputs": [
    {
     "data": {
      "text/plain": [
       "[(0,\n",
       "  '0.015*\"jesus\" + 0.006*\"man\" + 0.004*\"boat\" + 0.003*\"scribes\" + 0.003*\"disciples\" + 0.002*\"damsel\" + 0.002*\"james\" + 0.002*\"desire\" + 0.002*\"sea\" + 0.002*\"bread\"'),\n",
       " (1,\n",
       "  '0.047*\"jesus\" + 0.028*\"man\" + 0.021*\"son\" + 0.014*\"god\" + 0.013*\"things\" + 0.013*\"lord\" + 0.011*\"disciples\" + 0.009*\"kingdom\" + 0.009*\"day\" + 0.008*\"house\"'),\n",
       " (2,\n",
       "  '0.047*\"jesus\" + 0.024*\"man\" + 0.023*\"father\" + 0.017*\"world\" + 0.014*\"son\" + 0.014*\"god\" + 0.013*\"things\" + 0.013*\"jews\" + 0.011*\"disciples\" + 0.009*\"life\"')]"
      ]
     },
     "execution_count": 54,
     "metadata": {},
     "output_type": "execute_result"
    }
   ],
   "source": [
    "# looking better\n",
    "# Let's try topics = 3\n",
    "ldan = models.LdaModel(corpus=corpusn, num_topics=3, id2word=id2wordn, passes=10)\n",
    "ldan.print_topics()"
   ]
  },
  {
   "cell_type": "code",
   "execution_count": 55,
   "id": "5319b022",
   "metadata": {},
   "outputs": [
    {
     "data": {
      "text/plain": [
       "[(0,\n",
       "  '0.052*\"jesus\" + 0.028*\"man\" + 0.012*\"disciples\" + 0.011*\"son\" + 0.010*\"things\" + 0.010*\"god\" + 0.006*\"house\" + 0.006*\"hand\" + 0.006*\"kingdom\" + 0.006*\"way\"'),\n",
       " (1,\n",
       "  '0.040*\"jesus\" + 0.021*\"man\" + 0.014*\"son\" + 0.011*\"lord\" + 0.011*\"disciples\" + 0.010*\"father\" + 0.010*\"things\" + 0.009*\"kingdom\" + 0.008*\"heaven\" + 0.008*\"god\"'),\n",
       " (2,\n",
       "  '0.001*\"jesus\" + 0.001*\"son\" + 0.001*\"man\" + 0.001*\"god\" + 0.001*\"lord\" + 0.001*\"disciples\" + 0.001*\"things\" + 0.001*\"father\" + 0.000*\"day\" + 0.000*\"house\"'),\n",
       " (3,\n",
       "  '0.047*\"jesus\" + 0.027*\"man\" + 0.023*\"son\" + 0.018*\"god\" + 0.016*\"father\" + 0.016*\"things\" + 0.012*\"lord\" + 0.010*\"world\" + 0.010*\"disciples\" + 0.009*\"day\"')]"
      ]
     },
     "execution_count": 55,
     "metadata": {},
     "output_type": "execute_result"
    }
   ],
   "source": [
    "# Let's try 4 topics\n",
    "ldan = models.LdaModel(corpus=corpusn, num_topics=4, id2word=id2wordn, passes=10)\n",
    "ldan.print_topics()"
   ]
  },
  {
   "cell_type": "code",
   "execution_count": 56,
   "id": "b52c6ffa",
   "metadata": {},
   "outputs": [],
   "source": [
    "# Let's create a function to pull out nouns from a string of text\n",
    "def nouns_adj(text):\n",
    "    '''Given a string of text, tokenize the text and pull out only the nouns and adjectives.'''\n",
    "    is_noun_adj = lambda pos: pos[:2] == 'NN' or pos[:2] == 'JJ'\n",
    "    tokenized = word_tokenize(text)\n",
    "    nouns_adj = [word for (word, pos) in pos_tag(tokenized) if is_noun_adj(pos)] \n",
    "    return ' '.join(nouns_adj)"
   ]
  },
  {
   "cell_type": "code",
   "execution_count": 57,
   "id": "de2a8f73",
   "metadata": {},
   "outputs": [
    {
     "data": {
      "text/html": [
       "<div>\n",
       "<style scoped>\n",
       "    .dataframe tbody tr th:only-of-type {\n",
       "        vertical-align: middle;\n",
       "    }\n",
       "\n",
       "    .dataframe tbody tr th {\n",
       "        vertical-align: top;\n",
       "    }\n",
       "\n",
       "    .dataframe thead th {\n",
       "        text-align: right;\n",
       "    }\n",
       "</style>\n",
       "<table border=\"1\" class=\"dataframe\">\n",
       "  <thead>\n",
       "    <tr style=\"text-align: right;\">\n",
       "      <th></th>\n",
       "      <th>transcripts</th>\n",
       "    </tr>\n",
       "  </thead>\n",
       "  <tbody>\n",
       "    <tr>\n",
       "      <th>John</th>\n",
       "      <td>gospel john readers editor lightheart release ...</td>\n",
       "    </tr>\n",
       "    <tr>\n",
       "      <th>Luke</th>\n",
       "      <td>gospel luke readers editor lightheart release ...</td>\n",
       "    </tr>\n",
       "    <tr>\n",
       "      <th>Mark</th>\n",
       "      <td>gospel mark readers editor lightheart release ...</td>\n",
       "    </tr>\n",
       "    <tr>\n",
       "      <th>Matthew</th>\n",
       "      <td>gospel matthew readers editor lightheart relea...</td>\n",
       "    </tr>\n",
       "  </tbody>\n",
       "</table>\n",
       "</div>"
      ],
      "text/plain": [
       "                                               transcripts\n",
       "John     gospel john readers editor lightheart release ...\n",
       "Luke     gospel luke readers editor lightheart release ...\n",
       "Mark     gospel mark readers editor lightheart release ...\n",
       "Matthew  gospel matthew readers editor lightheart relea..."
      ]
     },
     "execution_count": 57,
     "metadata": {},
     "output_type": "execute_result"
    }
   ],
   "source": [
    "# Apply the nouns function to the transcripts to filter only on nouns\n",
    "data_nouns_adj = pd.DataFrame(data_clean.transcripts.apply(nouns_adj))\n",
    "data_nouns_adj"
   ]
  },
  {
   "cell_type": "code",
   "execution_count": 58,
   "id": "463b9ea8",
   "metadata": {},
   "outputs": [
    {
     "data": {
      "text/html": [
       "<div>\n",
       "<style scoped>\n",
       "    .dataframe tbody tr th:only-of-type {\n",
       "        vertical-align: middle;\n",
       "    }\n",
       "\n",
       "    .dataframe tbody tr th {\n",
       "        vertical-align: top;\n",
       "    }\n",
       "\n",
       "    .dataframe thead th {\n",
       "        text-align: right;\n",
       "    }\n",
       "</style>\n",
       "<table border=\"1\" class=\"dataframe\">\n",
       "  <thead>\n",
       "    <tr style=\"text-align: right;\">\n",
       "      <th></th>\n",
       "      <th>abel</th>\n",
       "      <th>abia</th>\n",
       "      <th>abide</th>\n",
       "      <th>abideth</th>\n",
       "      <th>abilene</th>\n",
       "      <th>ability</th>\n",
       "      <th>able</th>\n",
       "      <th>ableto</th>\n",
       "      <th>aboat</th>\n",
       "      <th>abode</th>\n",
       "      <th>...</th>\n",
       "      <th>youwill</th>\n",
       "      <th>youyou</th>\n",
       "      <th>zabulon</th>\n",
       "      <th>zacchaeus</th>\n",
       "      <th>zacharias</th>\n",
       "      <th>zeal</th>\n",
       "      <th>zebedee</th>\n",
       "      <th>zebedees</th>\n",
       "      <th>zelotes</th>\n",
       "      <th>zorobabel</th>\n",
       "    </tr>\n",
       "  </thead>\n",
       "  <tbody>\n",
       "    <tr>\n",
       "      <th>John</th>\n",
       "      <td>0</td>\n",
       "      <td>0</td>\n",
       "      <td>3</td>\n",
       "      <td>2</td>\n",
       "      <td>0</td>\n",
       "      <td>0</td>\n",
       "      <td>1</td>\n",
       "      <td>1</td>\n",
       "      <td>0</td>\n",
       "      <td>2</td>\n",
       "      <td>...</td>\n",
       "      <td>0</td>\n",
       "      <td>0</td>\n",
       "      <td>0</td>\n",
       "      <td>0</td>\n",
       "      <td>0</td>\n",
       "      <td>1</td>\n",
       "      <td>0</td>\n",
       "      <td>0</td>\n",
       "      <td>0</td>\n",
       "      <td>0</td>\n",
       "    </tr>\n",
       "    <tr>\n",
       "      <th>Luke</th>\n",
       "      <td>1</td>\n",
       "      <td>1</td>\n",
       "      <td>1</td>\n",
       "      <td>0</td>\n",
       "      <td>1</td>\n",
       "      <td>0</td>\n",
       "      <td>6</td>\n",
       "      <td>0</td>\n",
       "      <td>0</td>\n",
       "      <td>1</td>\n",
       "      <td>...</td>\n",
       "      <td>1</td>\n",
       "      <td>1</td>\n",
       "      <td>0</td>\n",
       "      <td>2</td>\n",
       "      <td>8</td>\n",
       "      <td>0</td>\n",
       "      <td>0</td>\n",
       "      <td>0</td>\n",
       "      <td>1</td>\n",
       "      <td>1</td>\n",
       "    </tr>\n",
       "    <tr>\n",
       "      <th>Mark</th>\n",
       "      <td>0</td>\n",
       "      <td>0</td>\n",
       "      <td>0</td>\n",
       "      <td>0</td>\n",
       "      <td>0</td>\n",
       "      <td>0</td>\n",
       "      <td>0</td>\n",
       "      <td>0</td>\n",
       "      <td>1</td>\n",
       "      <td>0</td>\n",
       "      <td>...</td>\n",
       "      <td>0</td>\n",
       "      <td>0</td>\n",
       "      <td>0</td>\n",
       "      <td>0</td>\n",
       "      <td>0</td>\n",
       "      <td>0</td>\n",
       "      <td>3</td>\n",
       "      <td>0</td>\n",
       "      <td>0</td>\n",
       "      <td>0</td>\n",
       "    </tr>\n",
       "    <tr>\n",
       "      <th>Matthew</th>\n",
       "      <td>0</td>\n",
       "      <td>0</td>\n",
       "      <td>0</td>\n",
       "      <td>0</td>\n",
       "      <td>0</td>\n",
       "      <td>1</td>\n",
       "      <td>9</td>\n",
       "      <td>0</td>\n",
       "      <td>0</td>\n",
       "      <td>0</td>\n",
       "      <td>...</td>\n",
       "      <td>0</td>\n",
       "      <td>0</td>\n",
       "      <td>1</td>\n",
       "      <td>0</td>\n",
       "      <td>1</td>\n",
       "      <td>0</td>\n",
       "      <td>3</td>\n",
       "      <td>1</td>\n",
       "      <td>0</td>\n",
       "      <td>0</td>\n",
       "    </tr>\n",
       "  </tbody>\n",
       "</table>\n",
       "<p>4 rows × 4150 columns</p>\n",
       "</div>"
      ],
      "text/plain": [
       "         abel  abia  abide  abideth  abilene  ability  able  ableto  aboat  \\\n",
       "John        0     0      3        2        0        0     1       1      0   \n",
       "Luke        1     1      1        0        1        0     6       0      0   \n",
       "Mark        0     0      0        0        0        0     0       0      1   \n",
       "Matthew     0     0      0        0        0        1     9       0      0   \n",
       "\n",
       "         abode  ...  youwill  youyou  zabulon  zacchaeus  zacharias  zeal  \\\n",
       "John         2  ...        0       0        0          0          0     1   \n",
       "Luke         1  ...        1       1        0          2          8     0   \n",
       "Mark         0  ...        0       0        0          0          0     0   \n",
       "Matthew      0  ...        0       0        1          0          1     0   \n",
       "\n",
       "         zebedee  zebedees  zelotes  zorobabel  \n",
       "John           0         0        0          0  \n",
       "Luke           0         0        1          1  \n",
       "Mark           3         0        0          0  \n",
       "Matthew        3         1        0          0  \n",
       "\n",
       "[4 rows x 4150 columns]"
      ]
     },
     "execution_count": 58,
     "metadata": {},
     "output_type": "execute_result"
    }
   ],
   "source": [
    "# Create a new document-term matrix using only nouns and adjectives, also remove common words with max_df\n",
    "cvna = CountVectorizer(stop_words=list(stop_words), max_df=.8)\n",
    "data_cvna = cvna.fit_transform(data_nouns_adj.transcripts)\n",
    "data_dtmna = pd.DataFrame(data_cvna.toarray(), columns=cvna.get_feature_names_out())\n",
    "data_dtmna.index = data_nouns_adj.index\n",
    "data_dtmna"
   ]
  },
  {
   "cell_type": "code",
   "execution_count": 59,
   "id": "d8d54913",
   "metadata": {},
   "outputs": [],
   "source": [
    "# Create the gensim corpus\n",
    "corpusna = matutils.Sparse2Corpus(scipy.sparse.csr_matrix(data_dtmna.transpose()))\n",
    "\n",
    "# Create the vocabulary dictionary\n",
    "id2wordna = dict((v, k) for k, v in cvna.vocabulary_.items())"
   ]
  },
  {
   "cell_type": "code",
   "execution_count": 60,
   "id": "59899858",
   "metadata": {},
   "outputs": [
    {
     "data": {
      "text/plain": [
       "[(0,\n",
       "  '0.006*\"light\" + 0.005*\"law\" + 0.004*\"disciple\" + 0.004*\"works\" + 0.004*\"sin\" + 0.003*\"fathers\" + 0.003*\"philip\" + 0.002*\"love\" + 0.002*\"miracles\" + 0.002*\"thejews\"'),\n",
       " (1,\n",
       "  '0.004*\"devils\" + 0.003*\"herod\" + 0.003*\"eye\" + 0.003*\"generation\" + 0.003*\"faith\" + 0.003*\"light\" + 0.003*\"elders\" + 0.003*\"rich\" + 0.002*\"vineyard\" + 0.002*\"angel\"')]"
      ]
     },
     "execution_count": 60,
     "metadata": {},
     "output_type": "execute_result"
    }
   ],
   "source": [
    "# Let's start with 2 topics\n",
    "ldana = models.LdaModel(corpus=corpusna, num_topics=2, id2word=id2wordna, passes=10)\n",
    "ldana.print_topics()"
   ]
  },
  {
   "cell_type": "code",
   "execution_count": 61,
   "id": "bbfa6680",
   "metadata": {},
   "outputs": [
    {
     "data": {
      "text/plain": [
       "[(0,\n",
       "  '0.004*\"eye\" + 0.003*\"field\" + 0.003*\"talents\" + 0.003*\"devils\" + 0.003*\"light\" + 0.003*\"faith\" + 0.003*\"generation\" + 0.003*\"elders\" + 0.003*\"hypocrites\" + 0.003*\"herod\"'),\n",
       " (1,\n",
       "  '0.004*\"devils\" + 0.003*\"herod\" + 0.003*\"rich\" + 0.003*\"generation\" + 0.003*\"james\" + 0.003*\"angel\" + 0.003*\"faith\" + 0.003*\"unclean\" + 0.002*\"cast\" + 0.002*\"light\"'),\n",
       " (2,\n",
       "  '0.007*\"light\" + 0.006*\"law\" + 0.005*\"disciple\" + 0.005*\"works\" + 0.005*\"sin\" + 0.004*\"fathers\" + 0.003*\"philip\" + 0.003*\"love\" + 0.003*\"miracles\" + 0.003*\"thejews\"')]"
      ]
     },
     "execution_count": 61,
     "metadata": {},
     "output_type": "execute_result"
    }
   ],
   "source": [
    "# Let's try 3 topics\n",
    "ldana = models.LdaModel(corpus=corpusna, num_topics=3, id2word=id2wordna, passes=10)\n",
    "ldana.print_topics()"
   ]
  },
  {
   "cell_type": "code",
   "execution_count": 62,
   "id": "0f893178",
   "metadata": {},
   "outputs": [
    {
     "data": {
      "text/plain": [
       "[(0,\n",
       "  '0.000*\"devils\" + 0.000*\"light\" + 0.000*\"rich\" + 0.000*\"generation\" + 0.000*\"eye\" + 0.000*\"herod\" + 0.000*\"law\" + 0.000*\"angel\" + 0.000*\"faith\" + 0.000*\"james\"'),\n",
       " (1,\n",
       "  '0.008*\"light\" + 0.006*\"law\" + 0.005*\"disciple\" + 0.005*\"works\" + 0.005*\"sin\" + 0.004*\"fathers\" + 0.004*\"philip\" + 0.003*\"love\" + 0.003*\"thejews\" + 0.003*\"miracles\"'),\n",
       " (2,\n",
       "  '0.004*\"devils\" + 0.004*\"light\" + 0.004*\"eye\" + 0.004*\"generation\" + 0.003*\"faith\" + 0.003*\"angel\" + 0.003*\"herod\" + 0.003*\"worthy\" + 0.003*\"rich\" + 0.003*\"field\"'),\n",
       " (3,\n",
       "  '0.004*\"james\" + 0.003*\"herod\" + 0.003*\"devils\" + 0.003*\"unclean\" + 0.003*\"elders\" + 0.003*\"cast\" + 0.003*\"damsel\" + 0.002*\"soul\" + 0.002*\"swine\" + 0.002*\"possible\"')]"
      ]
     },
     "execution_count": 62,
     "metadata": {},
     "output_type": "execute_result"
    }
   ],
   "source": [
    "# Let's try 4 topics\n",
    "ldana = models.LdaModel(corpus=corpusna, num_topics=4, id2word=id2wordna, passes=10)\n",
    "ldana.print_topics()"
   ]
  },
  {
   "cell_type": "code",
   "execution_count": 63,
   "id": "79b529ee",
   "metadata": {},
   "outputs": [
    {
     "data": {
      "text/plain": [
       "[(0,\n",
       "  '0.004*\"rich\" + 0.004*\"devils\" + 0.004*\"angel\" + 0.003*\"light\" + 0.003*\"abraham\" + 0.003*\"generation\" + 0.003*\"women\" + 0.003*\"faith\" + 0.003*\"worthy\" + 0.003*\"herod\"'),\n",
       " (1,\n",
       "  '0.000*\"taste\" + 0.000*\"andif\" + 0.000*\"question\" + 0.000*\"testament\" + 0.000*\"shining\" + 0.000*\"fields\" + 0.000*\"vessel\" + 0.000*\"greek\" + 0.000*\"spices\" + 0.000*\"present\"'),\n",
       " (2,\n",
       "  '0.006*\"light\" + 0.005*\"law\" + 0.004*\"works\" + 0.004*\"disciple\" + 0.003*\"eye\" + 0.003*\"sin\" + 0.003*\"fathers\" + 0.003*\"field\" + 0.002*\"talents\" + 0.002*\"prison\"'),\n",
       " (3,\n",
       "  '0.004*\"james\" + 0.003*\"unclean\" + 0.003*\"herod\" + 0.003*\"devils\" + 0.003*\"elders\" + 0.003*\"damsel\" + 0.003*\"cast\" + 0.002*\"possible\" + 0.002*\"heed\" + 0.002*\"swine\"')]"
      ]
     },
     "execution_count": 63,
     "metadata": {},
     "output_type": "execute_result"
    }
   ],
   "source": [
    "# Our final LDA model (for now)\n",
    "ldana = models.LdaModel(corpus=corpusna, num_topics=4, id2word=id2wordna, passes=80)\n",
    "ldana.print_topics()"
   ]
  },
  {
   "cell_type": "code",
   "execution_count": 64,
   "id": "ef4d944b",
   "metadata": {},
   "outputs": [
    {
     "data": {
      "text/plain": [
       "[(2, 'John'), (0, 'Luke'), (3, 'Mark'), (2, 'Matthew')]"
      ]
     },
     "execution_count": 64,
     "metadata": {},
     "output_type": "execute_result"
    }
   ],
   "source": [
    "# Let's take a look at which topics each transcript contains\n",
    "corpus_transformed = ldana[corpusna]\n",
    "list(zip([a for [(a,b)] in corpus_transformed], data_dtmna.index))"
   ]
  },
  {
   "cell_type": "code",
   "execution_count": null,
   "id": "f78e8227",
   "metadata": {},
   "outputs": [],
   "source": []
  }
 ],
 "metadata": {
  "kernelspec": {
   "display_name": "Python 3 (ipykernel)",
   "language": "python",
   "name": "python3"
  },
  "language_info": {
   "codemirror_mode": {
    "name": "ipython",
    "version": 3
   },
   "file_extension": ".py",
   "mimetype": "text/x-python",
   "name": "python",
   "nbconvert_exporter": "python",
   "pygments_lexer": "ipython3",
   "version": "3.11.5"
  }
 },
 "nbformat": 4,
 "nbformat_minor": 5
}
